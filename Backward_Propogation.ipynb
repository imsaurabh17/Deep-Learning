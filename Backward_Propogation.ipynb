{
 "cells": [
  {
   "cell_type": "code",
   "execution_count": null,
   "metadata": {},
   "outputs": [],
   "source": [
    "import numpy as np \n",
    "from sklearn.model_selection import train_test_split\n",
    "from sklearn.metrics import accuracy_score"
   ]
  },
  {
   "cell_type": "code",
   "execution_count": null,
   "metadata": {},
   "outputs": [],
   "source": [
    "class NeuralNetwork:\n",
    "\n",
    "    def __init__(self,input_size,hidden_size,output_size,learning_rate=0.01):\n",
    "        self.input_size = input_size\n",
    "        self.hidden_size = hidden_size\n",
    "        self.output_size = output_size\n",
    "\n",
    "        self.hidden_weights = np.random.randn(self.input_size,self.hidden_size)*0.01\n",
    "        self.hidden_biases = np.zeros((1,self.hidden_size))\n",
    "        self.output_weights = np.random.randn(self.hidden_size,self.output_size)*0.01\n",
    "        self.output_biases = np.zeros((1,self.output_size))\n",
    "\n",
    "    def sigmoid(self,z):\n",
    "        return 1/(1+np.exp(-z))\n",
    "\n",
    "    def sigmoid_derivative(self,z):\n",
    "        return z*(1-z)\n",
    "\n",
    "    def forward(self,vector):\n",
    "        self.hiden_input = np.dot(vector,self.hidden_weights) + self.hidden_biases\n",
    "        self.hidden_output = self.sigmoid(self.hidden_input)\n",
    "\n",
    "        self.output_input = np.dot()"
   ]
  },
  {
   "cell_type": "code",
   "execution_count": null,
   "metadata": {},
   "outputs": [],
   "source": []
  }
 ],
 "metadata": {
  "kernelspec": {
   "display_name": "Python 3",
   "language": "python",
   "name": "python3"
  },
  "language_info": {
   "codemirror_mode": {
    "name": "ipython",
    "version": 3
   },
   "file_extension": ".py",
   "mimetype": "text/x-python",
   "name": "python",
   "nbconvert_exporter": "python",
   "pygments_lexer": "ipython3",
   "version": "3.12.0"
  }
 },
 "nbformat": 4,
 "nbformat_minor": 2
}
